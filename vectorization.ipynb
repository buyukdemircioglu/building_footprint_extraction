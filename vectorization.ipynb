{
 "cells": [
  {
   "cell_type": "code",
   "execution_count": 4,
   "metadata": {},
   "outputs": [],
   "source": [
    "from osgeo import gdal, ogr, osr\n",
    "import geopandas as gpd\n",
    "import numpy as np                  "
   ]
  },
  {
   "cell_type": "code",
   "execution_count": 5,
   "metadata": {},
   "outputs": [],
   "source": [
    "def vectorize_predictions(raster_path, dest_path, epsg=5253):\n",
    "    image = gdal.Open(raster_path)\n",
    "    srs = osr.SpatialReference()\n",
    "    srs.ImportFromEPSG(epsg)\n",
    "    driver = ogr.GetDriverByName('ESRI Shapefile')\n",
    "    vector_src = driver.CreateDataSource(dest_path)\n",
    "    layer = vector_src.CreateLayer('polygon', geom_type=ogr.wkbPolygon, srs=srs)\n",
    "    layer.CreateField(ogr.FieldDefn('id', ogr.OFTInteger))\n",
    "    img_band = image.GetRasterBand(1)\n",
    "    img_band.SetNoDataValue(0)\n",
    "    gdal.Polygonize(img_band, img_band, layer,\n",
    "                    0, [], callback=None)\n",
    "    vector_src.Destroy()"
   ]
  },
  {
   "cell_type": "code",
   "execution_count": 6,
   "metadata": {},
   "outputs": [],
   "source": [
    "\n",
    "def simplify_vector(shp_path, tolerance_list, dst_base_path, min_threshold=0.1, apply_threshold=True):\n",
    "    shp_df = gpd.read_file(shp_path)\n",
    "    file_ids = open(dst_base_path +\"\\\\\"+ \"simplification_results.txt\", \"w\")        \n",
    "    for k in tolerance_list:\n",
    "        new_df = shp_df.geometry.simplify(tolerance=k, preserve_topology=True)\n",
    "        diff = new_df.area - shp_df.area\n",
    "        diff = np.mean(diff)\n",
    "        if apply_threshold and abs(diff) <= min_threshold:\n",
    "            dst_path = dst_base_path + \"\\\\\" + f\"simplified_tolerance_{k}_area_diff_{diff}.shp\"\n",
    "            new_df.to_file(dst_path)\n",
    "            file_ids.write(\"Tolerance: \" + str(k) + \"\\t\" + \"Mean Diff: \" + str(diff) + \"\\n\")\n",
    "        if not apply_threshold:\n",
    "            dst_path = dst_base_path + \"\\\\\" +  f\"simplified_tolerance_{k}_area_diff_{diff}.shp\"\n",
    "            new_df.to_file(dst_path)\n",
    "            file_ids.write(\"Tolerance: \" + str(k) + \"\\t\" + \"Mean Diff: \" + str(diff) + \"\\n\")\n",
    "    file_ids.close()"
   ]
  },
  {
   "cell_type": "code",
   "execution_count": 7,
   "metadata": {},
   "outputs": [],
   "source": [
    "file = \"Unet_seresnet18_100epoch_16batch_nDSM\"\n",
    "path = f\"results_trueop\\\\{file}\\\\{file}.tif\"\n",
    "shp_path = f\"results_trueop\\\\test\\\\{file}.shp\"\n",
    "vectorize_predictions(path, shp_path, epsg=5253)"
   ]
  },
  {
   "cell_type": "code",
   "execution_count": 10,
   "metadata": {},
   "outputs": [],
   "source": [
    "tolerance_list = np.arange(2.0, 0.1, -0.05)\n",
    "shp_path = f\"results_trueop\\\\test\\\\{file}.shp\"\n",
    "dst_base_path = \"results_trueop\\\\test\"\n",
    "simplify_vector(shp_path, tolerance_list, dst_base_path, min_threshold=0.1, apply_threshold=False)"
   ]
  }
 ],
 "metadata": {
  "interpreter": {
   "hash": "f61b18e925659a6c5b25622f48e9d8a271d6ceed3dad3f547784dc3da8bd5978"
  },
  "kernelspec": {
   "display_name": "Python 3.6.8 64-bit ('thesis': conda)",
   "language": "python",
   "name": "python3"
  },
  "language_info": {
   "codemirror_mode": {
    "name": "ipython",
    "version": 3
   },
   "file_extension": ".py",
   "mimetype": "text/x-python",
   "name": "python",
   "nbconvert_exporter": "python",
   "pygments_lexer": "ipython3",
   "version": "3.6.8"
  },
  "orig_nbformat": 4
 },
 "nbformat": 4,
 "nbformat_minor": 2
}
